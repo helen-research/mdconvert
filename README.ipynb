{
 "cells": [
  {
   "cell_type": "markdown",
   "metadata": {},
   "source": [
    "`mdconvert` uses a notebook's metadata to configure `nbconvert` actions."
   ]
  },
  {
   "cell_type": "markdown",
   "metadata": {},
   "source": [
    "# Usage\n",
    "\n",
    "(Edit > Edit Notebook Metadata) and add a `nbconvert` key a notebook's `metadata`; the `value` is a list of lists - the `export_format` & an object with [`configurables`](http://nbconvert.readthedocs.io/en/latest/config_options.html), respectively."
   ]
  },
  {
   "cell_type": "markdown",
   "metadata": {},
   "source": [
    "> Edit the `metadata` with a cell magic."
   ]
  },
  {
   "cell_type": "code",
   "execution_count": 1,
   "metadata": {
    "collapsed": false
   },
   "outputs": [],
   "source": [
    "%reload_ext mdconvert"
   ]
  },
  {
   "cell_type": "code",
   "execution_count": 2,
   "metadata": {
    "collapsed": false
   },
   "outputs": [
    {
     "data": {
      "application/javascript": [
       "var update = {\"nbconvert\": [[\"markdown\", {}]]};\n",
       "Object.keys(update).forEach(\n",
       "    function (key){\n",
       "        var value = update[key];\n",
       "        if (value){\n",
       "            Jupyter.notebook.metadata[key] = value\n",
       "        } else {\n",
       "            delete Jupyter.notebook.metadata[key];\n",
       "        };\n",
       "    });"
      ],
      "text/plain": [
       "<IPython.core.display.Javascript object>"
      ]
     },
     "metadata": {},
     "output_type": "display_data"
    }
   ],
   "source": [
    "%%metadata\n",
    "nbconvert:\n",
    "    - [markdown, {}]"
   ]
  },
  {
   "cell_type": "code",
   "execution_count": 3,
   "metadata": {
    "collapsed": false
   },
   "outputs": [
    {
     "name": "stdout",
     "output_type": "stream",
     "text": [
      "<class 'list'>\n",
      "[NbConvertApp] Converting notebook README.ipynb to html\n",
      "[MDConvertApp] Writing 613 bytes to README.md\n",
      "[NbConvertApp] Conversions completed in 0.1194000244140625 seconds.\n"
     ]
    }
   ],
   "source": [
    "!jupyter mdconvert README.ipynb"
   ]
  },
  {
   "cell_type": "code",
   "execution_count": null,
   "metadata": {
    "collapsed": true
   },
   "outputs": [],
   "source": []
  },
  {
   "cell_type": "code",
   "execution_count": null,
   "metadata": {
    "collapsed": true
   },
   "outputs": [],
   "source": [
    "!jupyter serverextension enable --py jawn"
   ]
  },
  {
   "cell_type": "code",
   "execution_count": 3,
   "metadata": {
    "collapsed": true
   },
   "outputs": [],
   "source": [
    "import mdconvert"
   ]
  }
 ],
 "metadata": {
  "anaconda-cloud": {},
  "kernelspec": {
   "display_name": "root",
   "language": "python",
   "name": "root"
  },
  "language_info": {
   "codemirror_mode": {
    "name": "ipython",
    "version": 3
   },
   "file_extension": ".py",
   "mimetype": "text/x-python",
   "name": "python",
   "nbconvert_exporter": "python",
   "pygments_lexer": "ipython3",
   "version": "3.5.2"
  },
  "nbconvert": [
   [
    "markdown",
    {}
   ]
  ]
 },
 "nbformat": 4,
 "nbformat_minor": 2
}
